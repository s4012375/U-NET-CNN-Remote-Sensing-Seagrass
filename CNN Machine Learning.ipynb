{
 "cells": [
  {
   "cell_type": "code",
   "execution_count": 1,
   "id": "64baf265-eed0-44fa-b836-8a61c2f680cf",
   "metadata": {},
   "outputs": [],
   "source": [
    "import matplotlib as plt\n",
    "import sys, os, time\n",
    "sys.path.append(\"acolite-main/\")\n",
    "import acolite as ac"
   ]
  },
  {
   "cell_type": "code",
   "execution_count": 2,
   "id": "8fb59c42-ae56-49a0-a3b0-6eff591d2f0a",
   "metadata": {},
   "outputs": [],
   "source": [
    "# Variable names\n",
    "patch_size = (64, 64, 3)\n",
    "imagery_dir = 'C:\\\\Users\\\\Lizzie\\\\Documents\\\\assignment_code\\\\datasets\\\\imagery\\\\'#'.\\\\datasets\\\\imagery\\\\'\n",
    "shapefile_dir = '.\\\\datasets\\\\shapefile\\\\'\n",
    "\n",
    "imagery_id = {'s20191211':'S2A_MSIL1C_20191211T112451_N0500_R037_T30UWG_20230607T111953.SAFE',\n",
    "              's20191027':'S2B_MSIL1C_20191027T112119_N0500_R037_T30UWG_20230614T154510.SAFE',\n",
    "              's20190627':'S2A_MSIL1C_20190627T113321_N0500_R080_T30UWG_20230716T095057.SAFE',\n",
    "              's20190227':'S2A_MSIL1C_20190227T113311_N0207_R080_T30UWG_20190227T133051.SAFE',\n",
    "              's20190123':'S2B_MSIL1C_20190123T113359_N0207_R080_T30UWG_20190123T115441.SAFE',\n",
    "              's20181224':'S2B_MSIL1C_20181224T113459_N0207_R080_T30UWG_20181224T115652.SAFE',\n",
    "              's20181010':'S2A_MSIL1C_20181010T113321_N0206_R080_T30UWG_20181010T133915.SAFE',\n",
    "              's20180624':'S2B_MSIL1C_20180624T112109_N0206_R037_T30UWG_20180624T132741.SAFE',\n",
    "              's20171126':'S2B_MSIL1C_20171126T112359_N0206_R037_T30UWG_20171126T132429.SAFE',\n",
    "              's20171116':'S2B_MSIL1C_20171116T112319_N0206_R037_T30UWG_20171116T131734.SAFE',\n",
    "              's20170717':'S2A_MSIL1C_20170717T113321_N0205_R080_T30UWG_20170717T113326.SAFE',\n",
    "              's20170525':'S2A_MSIL1C_20170525T112121_N0205_R037_T30UWG_20170525T112434.SAFE',\n",
    "              's20170125':'S2A_MSIL1C_20170125T112331_N0204_R037_T30UWG_20170125T112333.SAFE',\n",
    "              's20161226':'S2A_MSIL1C_20161226T112452_N0204_R037_T30UWG_20161226T112454.SAFE',\n",
    "              's20161129':'S2A_MSIL1C_20161129T113432_N0204_R080_T30UWG_20161129T113427.SAFE',\n",
    "              's20161116':'S2A_MSIL1C_20161116T112332_N0204_R037_T30UWG_20161116T112335.SAFE',\n",
    "              's20160609':'S2A_MSIL1C_20160609T112122_N0202_R037_T30UWG_20160609T112443.SAFE',\n",
    "              's20160420':'S2A_MSIL1C_20160420T112112_N0201_R037_T30UWG_20160420T112242.SAFE',\n",
    "              's20160210':'S2A_MSIL1C_20160210T112212_N0201_R037_T30UWG_20160210T112214.SAFE',\n",
    "              's20151125':'S2A_MSIL1C_20151125T113412_N0204_R080_T30UWG_20151125T113411.SAFE'\n",
    "             }"
   ]
  },
  {
   "cell_type": "code",
   "execution_count": null,
   "id": "46d01e97-b461-45a5-a8f5-fb2fc78fa4e7",
   "metadata": {},
   "outputs": [
    {
     "name": "stdout",
     "output_type": "stream",
     "text": [
      "Running ACOLITE processing - Generic GitHub Clone\n",
      "Python - win32 - 3.10.13 | packaged by conda-forge | (main, Oct 26 2023, 18:01:37) [MSC v.1935 64 bit (AMD64)]\n",
      "Platform - Windows 10 - AMD64 - 10.0.22631\n",
      "Run ID - 20240319_184116\n",
      "Identified C:\\Users\\Lizzie\\Documents\\assignment_code\\datasets\\imagery\\S2A_MSIL1C_20191211T112451_N0500_R037_T30UWG_20230607T111953.SAFE as Sentinel-2 type\n",
      "Starting conversion of 1 scenes\n",
      "Starting conversion of C:\\Users\\Lizzie\\Documents\\assignment_code\\datasets\\imagery\\S2A_MSIL1C_20191211T112451_N0500_R037_T30UWG_20230607T111953.SAFE\n",
      "Importing metadata from L1C_T30UWG_A023343_20191211T112448\n",
      "Reading per pixel geometry\n"
     ]
    },
    {
     "name": "stderr",
     "output_type": "stream",
     "text": [
      "C:\\Users\\Lizzie\\miniforge3\\lib\\site-packages\\osgeo\\gdal.py:312: FutureWarning: Neither gdal.UseExceptions() nor gdal.DontUseExceptions() has been explicitly called. In GDAL 4.0, exceptions will be enabled by default.\n",
      "  warnings.warn(\n"
     ]
    },
    {
     "name": "stdout",
     "output_type": "stream",
     "text": [
      "Computing band average per detector geometry\n",
      "Detector 2\n",
      "Detector 3\n"
     ]
    },
    {
     "name": "stderr",
     "output_type": "stream",
     "text": [
      "C:\\Users\\Lizzie\\Documents\\assignment_code\\acolite-main\\acolite\\sentinel2\\l1_convert.py:417: RuntimeWarning: Mean of empty slice\n",
      "  ave_vza = np.nanmean(ave_vza, axis=2)\n",
      "C:\\Users\\Lizzie\\Documents\\assignment_code\\acolite-main\\acolite\\sentinel2\\l1_convert.py:418: RuntimeWarning: Mean of empty slice\n",
      "  ave_vaa = np.nanmean(ave_vaa, axis=2)\n"
     ]
    },
    {
     "name": "stdout",
     "output_type": "stream",
     "text": [
      "Detector 4\n",
      "Detector 5\n",
      "Detector 6\n",
      "Detector 7\n",
      "Wrote raa (2349, 273)\n",
      "Wrote vza (2349, 273)\n",
      "Wrote sza (2349, 273)\n",
      "Writing geolocation lon/lat\n",
      "(2349, 273)\n",
      "Wrote lon\n",
      "(2349, 273)\n",
      "Wrote lat\n",
      "Converting bands\n",
      "Converting bands: Wrote rhot_443 ((2349, 273))\n",
      "Converting bands: Wrote rhot_492 ((2349, 273))\n",
      "Converting bands: Wrote rhot_560 ((2349, 273))\n",
      "Converting bands: Wrote rhot_665 ((2349, 273))\n",
      "Converting bands: Wrote rhot_704 ((2349, 273))\n",
      "Converting bands: Wrote rhot_740 ((2349, 273))\n",
      "Converting bands: Wrote rhot_783 ((2349, 273))\n",
      "Converting bands: Wrote rhot_833 ((2349, 273))\n",
      "Converting bands: Wrote rhot_865 ((2349, 273))\n",
      "Converting bands: Wrote rhot_945 ((2349, 273))\n",
      "Converting bands: Wrote rhot_1373 ((2349, 273))\n",
      "Converting bands: Wrote rhot_1614 ((2349, 273))\n",
      "Converting bands: Wrote rhot_2202 ((2349, 273))\n",
      "Conversion took 6.1 seconds\n",
      "Created .\\Output\\/S2A_MSI_2019_12_11_11_25_48_T30UWG_L1R.nc\n"
     ]
    }
   ],
   "source": [
    "#### Image pre-processing ####\n",
    "# ACOLITE\n",
    "settings = {\"inputfile\":imagery_dir + 'S2A_MSIL1C_20191211T112451_N0500_R037_T30UWG_20230607T111953.SAFE',\n",
    "\"output\":\".\\\\Output\\\\\",\n",
    "\"s2_target_res\":10,\n",
    "\"limit\":[55.604786, -2.006041838833649, 55.81553188874741, -1.968428]} # To help handle memory usage\n",
    "ac.acolite.acolite_run(settings=settings)"
   ]
  },
  {
   "cell_type": "code",
   "execution_count": null,
   "id": "a0ba6f37-1271-41a3-bd6d-21c5d15196a2",
   "metadata": {},
   "outputs": [],
   "source": []
  }
 ],
 "metadata": {
  "kernelspec": {
   "display_name": "acolite-kernel",
   "language": "python",
   "name": "acolite-kernel"
  },
  "language_info": {
   "codemirror_mode": {
    "name": "ipython",
    "version": 3
   },
   "file_extension": ".py",
   "mimetype": "text/x-python",
   "name": "python",
   "nbconvert_exporter": "python",
   "pygments_lexer": "ipython3",
   "version": "3.10.13"
  }
 },
 "nbformat": 4,
 "nbformat_minor": 5
}
